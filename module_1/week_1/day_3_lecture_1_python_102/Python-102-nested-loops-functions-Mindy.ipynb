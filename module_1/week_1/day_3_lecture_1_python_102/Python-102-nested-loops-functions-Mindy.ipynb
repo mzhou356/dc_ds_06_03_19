{
 "cells": [
  {
   "cell_type": "markdown",
   "metadata": {},
   "source": [
    "## Python 102\n",
    "\n",
    "**Scenario:** Today we are going to build upon the for loops of yesterday. Who has ever got to the cash register at costco, or whole foods, seen the total and asked \"how did I spend that much?\". Today we have a grocery list of items and prices, but we do not have infinite money (unfortunately), so we need to have a program that will look at our grocery list and help us manage our shopping and cost.\n",
    "\n",
    "### Learning goals:\n",
    "\n",
    "Today we will:\n",
    " - revisit what for loop does, using a dictionary\n",
    " - use `break` to adjust loop activity\n",
    " - use nested loops to navigate a nested dictionary\n",
    " - write a robust function that will take any nested dictionary of items, costs, and print out your shopping list, stopping when the total cost gets to high, and telling you the average cost per item in your cart.\n",
    "\n",
    "Let's revisit what a for loop does. Here we have a list of items, and a separate list of costs. We are going to write a loop to print each item, it's cost, and the total of our grocery list.\n",
    "\n",
    "```\n",
    "items = ['cheese', 'whole milk', 'kefir', 'tofu four-pack', 'kale', 'oranges', 'ham', 'ben & jerry's']\n",
    "cost = [2.79, 3.42, 4.50, 12.00, 2.75, 3.64, 25.00, 5.29]\n",
    "```\n",
    "\n",
    "![groc-cart](https://images.pexels.com/photos/1389103/pexels-photo-1389103.jpeg?auto=compress&cs=tinysrgb&dpr=2&h=750&w=1260)\n",
    "\n",
    "### For loops:\n",
    "First, let's create a for-loop that prints each item in the list with \"I need to buy: \" item."
   ]
  },
  {
   "cell_type": "code",
   "execution_count": 4,
   "metadata": {},
   "outputs": [],
   "source": [
    "items = ['cheese', 'whole milk', 'kefir', 'tofu four-pack', 'kale', 'oranges', 'ham', '''ben & jerry's''']  \n",
    "# '''''', super quote\n",
    "cost = [2.79, 3.42, 4.50, 12.00, 2.75, 3.64, 25.00, 5.29]"
   ]
  },
  {
   "cell_type": "code",
   "execution_count": 5,
   "metadata": {},
   "outputs": [
    {
     "name": "stdout",
     "output_type": "stream",
     "text": [
      "I need to buy cheese\n",
      "I need to buy whole milk\n",
      "I need to buy kefir\n",
      "I need to buy tofu four-pack\n",
      "I need to buy kale\n",
      "I need to buy oranges\n",
      "I need to buy ham\n",
      "I need to buy ben & jerry's\n"
     ]
    }
   ],
   "source": [
    "for item in items:\n",
    "    print (f'I need to buy {item}')"
   ]
  },
  {
   "cell_type": "markdown",
   "metadata": {},
   "source": [
    "Let's make that a little nicer looking:\n",
    "\n",
    "```\n",
    "print(\"I need to buy: \")\n",
    "for item in items:\n",
    "   print(\" - [ ] \", item)\n",
    "```\n",
    "\n",
    "Okay, we want to work through a dictionary, so what's one way to convert those two lists to a dictionary?\n",
    "\n",
    "_Hint_: Check [this](https://www.w3schools.com/python/ref_func_zip.asp) documentation. "
   ]
  },
  {
   "cell_type": "code",
   "execution_count": 7,
   "metadata": {},
   "outputs": [
    {
     "name": "stdout",
     "output_type": "stream",
     "text": [
      "I need to buy: \n",
      " - [ ]  cheese\n",
      " - [ ]  whole milk\n",
      " - [ ]  kefir\n",
      " - [ ]  tofu four-pack\n",
      " - [ ]  kale\n",
      " - [ ]  oranges\n",
      " - [ ]  ham\n",
      " - [ ]  ben & jerry's\n"
     ]
    }
   ],
   "source": [
    "print ('I need to buy: ')\n",
    "for item in items:\n",
    "   print(\" - [ ] \", item)  # - [ ] syntax for checklist in markdown"
   ]
  },
  {
   "cell_type": "code",
   "execution_count": 11,
   "metadata": {},
   "outputs": [
    {
     "data": {
      "text/plain": [
       "[('cheese', 2.79),\n",
       " ('whole milk', 3.42),\n",
       " ('kefir', 4.5),\n",
       " ('tofu four-pack', 12.0),\n",
       " ('kale', 2.75),\n",
       " ('oranges', 3.64),\n",
       " ('ham', 25.0),\n",
       " (\"ben & jerry's\", 5.29)]"
      ]
     },
     "execution_count": 11,
     "metadata": {},
     "output_type": "execute_result"
    }
   ],
   "source": [
    "list(zip(items,cost))  # if you have additional element in either list, it will still work"
   ]
  },
  {
   "cell_type": "code",
   "execution_count": 12,
   "metadata": {},
   "outputs": [],
   "source": [
    "grocery_dict = dict(zip(items,cost))"
   ]
  },
  {
   "cell_type": "code",
   "execution_count": 15,
   "metadata": {},
   "outputs": [
    {
     "name": "stdout",
     "output_type": "stream",
     "text": [
      "cheese costs $ 2.79\n",
      "whole milk costs $ 3.42\n",
      "kefir costs $ 4.5\n",
      "tofu four-pack costs $ 12.0\n",
      "kale costs $ 2.75\n",
      "oranges costs $ 3.64\n",
      "ham costs $ 25.0\n",
      "ben & jerry's costs $ 5.29\n"
     ]
    }
   ],
   "source": [
    "for key, val in grocery_dict.items():\n",
    "    print(f'{key} costs $ {val}')"
   ]
  },
  {
   "cell_type": "markdown",
   "metadata": {},
   "source": [
    "So let's now add the total grocery bill at the end:"
   ]
  },
  {
   "cell_type": "code",
   "execution_count": 13,
   "metadata": {},
   "outputs": [
    {
     "data": {
      "text/plain": [
       "True"
      ]
     },
     "execution_count": 13,
     "metadata": {},
     "output_type": "execute_result"
    }
   ],
   "source": [
    "total =0 \n",
    "for value in grocery_dict.values():\n",
    "    total += value\n",
    "total == sum(cost)"
   ]
  },
  {
   "cell_type": "markdown",
   "metadata": {},
   "source": [
    "Does this look reasonable?\n",
    "\n",
    "What if you only had $25? \n",
    "\n",
    "How can you build it out to stop adding items when the total is over $25?\n",
    "\n",
    "### While, break, and continue\n",
    "What does a while loop look like in Python?"
   ]
  },
  {
   "cell_type": "code",
   "execution_count": 16,
   "metadata": {},
   "outputs": [
    {
     "name": "stdout",
     "output_type": "stream",
     "text": [
      "1\n",
      "2\n",
      "3\n",
      "4\n",
      "5\n"
     ]
    }
   ],
   "source": [
    "i = 1\n",
    "while i < 6:\n",
    "  print(i)\n",
    "  i += 1"
   ]
  },
  {
   "cell_type": "markdown",
   "metadata": {},
   "source": [
    "- What is break and continue?\n",
    "- Are they different? How?\n",
    "- Run the following code:"
   ]
  },
  {
   "cell_type": "code",
   "execution_count": 17,
   "metadata": {},
   "outputs": [
    {
     "name": "stdout",
     "output_type": "stream",
     "text": [
      "Andy\n",
      "And\n",
      "An\n",
      "A\n"
     ]
    }
   ],
   "source": [
    "name = 'Andy'\n",
    "while name:\n",
    "    print(name)\n",
    "    name = name[:-1]"
   ]
  },
  {
   "cell_type": "code",
   "execution_count": null,
   "metadata": {},
   "outputs": [],
   "source": [
    "# Falsey things in python\n",
    "''\n",
    "[]\n",
    "{}\n",
    "()\n",
    "False\n",
    "0\n",
    "None"
   ]
  },
  {
   "cell_type": "code",
   "execution_count": 21,
   "metadata": {},
   "outputs": [
    {
     "name": "stdout",
     "output_type": "stream",
     "text": [
      "1\n",
      "2\n",
      "spam\n",
      "4\n",
      "5\n",
      "6\n"
     ]
    }
   ],
   "source": [
    "eggs = 0\n",
    "while eggs < 6:\n",
    "  eggs += 1\n",
    "  if eggs == 3:\n",
    "    print(\"spam\")\n",
    "    continue\n",
    "  print(eggs)"
   ]
  },
  {
   "cell_type": "markdown",
   "metadata": {},
   "source": [
    "How does the code above work?\n",
    "\n",
    "Now run this code:"
   ]
  },
  {
   "cell_type": "code",
   "execution_count": 22,
   "metadata": {},
   "outputs": [
    {
     "name": "stdout",
     "output_type": "stream",
     "text": [
      "1\n",
      "2\n",
      "spam\n"
     ]
    }
   ],
   "source": [
    "eggs = 0\n",
    "while eggs < 6:\n",
    "  eggs += 1\n",
    "  if eggs == 3:\n",
    "    print(\"spam\")\n",
    "    break\n",
    "  print(eggs)"
   ]
  },
  {
   "cell_type": "markdown",
   "metadata": {},
   "source": [
    "Why is the output different?\n",
    "\n",
    "It stopped at foo, why?\n",
    "\n",
    "We can also include `breaks` in for-loops.\n",
    "\n",
    "What would we use to **stop** the for loop if the total reached $25?"
   ]
  },
  {
   "cell_type": "code",
   "execution_count": 26,
   "metadata": {},
   "outputs": [
    {
     "name": "stdout",
     "output_type": "stream",
     "text": [
      "cheese\n",
      "whole milk\n",
      "kefir\n",
      "tofu four-pack\n"
     ]
    },
    {
     "data": {
      "text/plain": [
       "22.71"
      ]
     },
     "execution_count": 26,
     "metadata": {},
     "output_type": "execute_result"
    }
   ],
   "source": [
    "total =0 \n",
    "for key, value in grocery_dict.items():\n",
    "    if total + val > 25:\n",
    "        continue\n",
    "    total += value\n",
    "    print(key)\n",
    "total"
   ]
  },
  {
   "cell_type": "markdown",
   "metadata": {},
   "source": [
    "What if we wanted to use continue and break to stop the program if an item costs more than **$10** ?"
   ]
  },
  {
   "cell_type": "markdown",
   "metadata": {},
   "source": [
    "### Nested Loops"
   ]
  },
  {
   "cell_type": "code",
   "execution_count": 28,
   "metadata": {},
   "outputs": [
    {
     "name": "stdout",
     "output_type": "stream",
     "text": [
      "row: 1\n",
      "coumn a\n",
      "coumn b\n",
      "coumn c\n",
      "coumn d\n",
      "coumn e\n",
      "row: 2\n",
      "coumn a\n",
      "coumn b\n",
      "coumn c\n",
      "coumn d\n",
      "coumn e\n",
      "row: 3\n",
      "coumn a\n",
      "coumn b\n",
      "coumn c\n",
      "coumn d\n",
      "coumn e\n",
      "row: 4\n",
      "coumn a\n",
      "coumn b\n",
      "coumn c\n",
      "coumn d\n",
      "coumn e\n",
      "row: 5\n",
      "coumn a\n",
      "coumn b\n",
      "coumn c\n",
      "coumn d\n",
      "coumn e\n"
     ]
    }
   ],
   "source": [
    "list2 = [1,2,3,4,5]\n",
    "list3 = ['a','b','c','d','e']\n",
    "for x in list2:\n",
    "  print('row:', x)\n",
    "  for y in list3:\n",
    "    print('coumn', y)"
   ]
  },
  {
   "cell_type": "markdown",
   "metadata": {},
   "source": [
    "What do you expect to see? Why?\n",
    "\n",
    "Here's a more complicated example, what is it doing?"
   ]
  },
  {
   "cell_type": "code",
   "execution_count": 29,
   "metadata": {},
   "outputs": [
    {
     "name": "stdout",
     "output_type": "stream",
     "text": [
      "2  is prime\n",
      "3  is prime\n",
      "5  is prime\n",
      "7  is prime\n",
      "11  is prime\n",
      "13  is prime\n",
      "17  is prime\n",
      "19  is prime\n",
      "23  is prime\n",
      "29  is prime\n",
      "31  is prime\n",
      "37  is prime\n",
      "41  is prime\n",
      "43  is prime\n",
      "47  is prime\n",
      "53  is prime\n",
      "59  is prime\n",
      "61  is prime\n",
      "67  is prime\n",
      "71  is prime\n",
      "73  is prime\n",
      "79  is prime\n",
      "83  is prime\n",
      "89  is prime\n",
      "97  is prime\n",
      "Good bye!\n"
     ]
    }
   ],
   "source": [
    "i = 2\n",
    "while(i < 100):\n",
    "   j = 2\n",
    "   while(j <= (i/j)):\n",
    "      if not(i%j): break\n",
    "      j = j + 1\n",
    "   if (j > i/j) : print( i, \" is prime\")\n",
    "   i = i + 1\n",
    "\n",
    "print (\"Good bye!\")"
   ]
  },
  {
   "cell_type": "markdown",
   "metadata": {},
   "source": [
    "Here is a more robust shopping list of nested dictionaries:\n",
    "```\n",
    "shopping_dict = {'Grocieries': {'ben & jerrys': 5.29, 'cheese': 2.79,'ham': 25.0, 'kale': 2.75,'kefir': 4.5,'oranges': 3.64,'tofu four-pack': 12.0,'whole milk': 3.42},\n",
    "                 'House supplies': {'toilet paper pack': 16.50, 'clorox spray': 6.43, 'kleenex': 2.50,},\n",
    "                 'Pet supplies': {'Taste of the Wild': 65.20, 'squeaky toy': 4.50, 'duck feet': 8.45}}\n",
    "```\n",
    "\n",
    "write the nested for loops to print out each grocery list with its total\n",
    "\n",
    "_Hint_\n",
    "\n",
    "- use [this link](https://pyformat.info/#number) for help in formatting the total to two decimal places"
   ]
  },
  {
   "cell_type": "code",
   "execution_count": null,
   "metadata": {},
   "outputs": [],
   "source": [
    "total = 0\n",
    "for item in shopping_dict.items():\n",
    "    "
   ]
  },
  {
   "cell_type": "code",
   "execution_count": 30,
   "metadata": {},
   "outputs": [],
   "source": [
    "shopping_dict = {'Grocieries': {'ben & jerrys': 5.29, 'cheese': 2.79,'ham': 25.0, 'kale': 2.75,'kefir': 4.5,'oranges': 3.64,'tofu four-pack': 12.0,'whole milk': 3.42},\n",
    "                 'House supplies': {'toilet paper pack': 16.50, 'clorox spray': 6.43, 'kleenex': 2.50,},\n",
    "                 'Pet supplies': {'Taste of the Wild': 65.20, 'squeaky toy': 4.50, 'duck feet': 8.45}}\n"
   ]
  },
  {
   "cell_type": "code",
   "execution_count": 36,
   "metadata": {},
   "outputs": [
    {
     "name": "stdout",
     "output_type": "stream",
     "text": [
      "Grocieries item ben & jerrys cost $5.29.        total cost is 5.29\n",
      "Grocieries item cheese cost $2.79.        total cost is 8.08\n",
      "Grocieries item ham cost $25.0.        total cost is 33.08\n",
      "Grocieries item kale cost $2.75.        total cost is 35.83\n",
      "Grocieries item kefir cost $4.5.        total cost is 40.33\n",
      "Grocieries item oranges cost $3.64.        total cost is 43.97\n",
      "Grocieries item tofu four-pack cost $12.0.        total cost is 55.97\n",
      "Grocieries item whole milk cost $3.42.        total cost is 59.39\n",
      "House supplies item toilet paper pack cost $16.5.        total cost is 75.89\n",
      "House supplies item clorox spray cost $6.43.        total cost is 82.32\n",
      "House supplies item kleenex cost $2.5.        total cost is 84.82\n",
      "Pet supplies item Taste of the Wild cost $65.2.        total cost is 150.01999999999998\n",
      "Pet supplies item squeaky toy cost $4.5.        total cost is 154.51999999999998\n",
      "Pet supplies item duck feet cost $8.45.        total cost is 162.96999999999997\n",
      "162.96999999999997\n"
     ]
    }
   ],
   "source": [
    "total = 0\n",
    "for k,v in shopping_dict.items():\n",
    "    for k1,v2 in v.items():\n",
    "        total += v2\n",
    "        print(f'{k} item {k1} cost ${v2}.\\\n",
    "        total cost is {total}')\n",
    "print(total)"
   ]
  },
  {
   "cell_type": "code",
   "execution_count": 33,
   "metadata": {},
   "outputs": [
    {
     "data": {
      "text/plain": [
       "2.79"
      ]
     },
     "execution_count": 33,
     "metadata": {},
     "output_type": "execute_result"
    }
   ],
   "source": [
    "shopping_dict['Grocieries']['cheese']"
   ]
  },
  {
   "cell_type": "markdown",
   "metadata": {},
   "source": [
    "### Functions\n",
    "\n",
    "**Built-in functions** <br>\n",
    "Many useful functions are already built into Python:<br>\n",
    "\n",
    "`print()`: print the given string or variable's value<br>\n",
    "`type()`: returns the datatype of the argument<br>\n",
    "`len()`: returns the length of an array<br>\n",
    "`sum()`: returns the sum of the array's values<br>\n",
    "`min()`: returns the smallest member of an array <br>\n",
    "`max()`: returns the largest member of an array<br>\n",
    "\n",
    "\n",
    "**Writing your own functions**\n",
    "\n",
    "```\n",
    "def sayHello():\n",
    "  print(\"Hello!\")\n",
    "```\n",
    "How do we run it?\n",
    "\n",
    "```\n",
    "sayHello()\n",
    "```\n",
    "\n",
    "Let's talk about arguments or parameters. Let's say we want to make this function more dynamic and print out whatever we want! How would we do that?\n",
    "```\n",
    "def shout(phrase):\n",
    "  print(phrase + \"!!!\")\n",
    "shout(\"oh hai\")\n",
    "```"
   ]
  },
  {
   "cell_type": "code",
   "execution_count": 37,
   "metadata": {},
   "outputs": [
    {
     "name": "stdout",
     "output_type": "stream",
     "text": [
      "oh hai!!!\n"
     ]
    }
   ],
   "source": [
    "def shout(phrase):\n",
    "  print(phrase + \"!!!\")\n",
    "shout(\"oh hai\")"
   ]
  },
  {
   "cell_type": "markdown",
   "metadata": {},
   "source": [
    "What if we don't pass in an argument? What happens?\n",
    "Maybe we can establish a default value for the argument in case it isn't passed in.\n",
    "\n",
    "```\n",
    "def shout(phrase = \"oh hai\"):\n",
    "  print(phrase + \"!!!\")\n",
    "\n",
    "shout()\n",
    "shout(\"bye\")\n",
    "```"
   ]
  },
  {
   "cell_type": "code",
   "execution_count": 38,
   "metadata": {},
   "outputs": [
    {
     "name": "stdout",
     "output_type": "stream",
     "text": [
      "oh hai!!!\n",
      "bye!!!\n"
     ]
    }
   ],
   "source": [
    "def shout(phrase = \"oh hai\"):\n",
    "  print(phrase + \"!!!\")\n",
    "\n",
    "shout()\n",
    "shout(\"bye\")"
   ]
  },
  {
   "cell_type": "markdown",
   "metadata": {},
   "source": [
    "What if we wanted to run a function, take its output and put it in to another function?\n",
    "\n",
    "```\n",
    "def add_one(number):\n",
    "  return number + 1\n",
    "\n",
    "def times_five(number):\n",
    "  return number * 5\n",
    "\n",
    "number_plus_one = add_one(1)\n",
    "answer = times_five(number_plus_one)\n",
    "print(answer)\n",
    "```\n",
    "\n",
    "What will the above code return?"
   ]
  },
  {
   "cell_type": "code",
   "execution_count": 39,
   "metadata": {},
   "outputs": [
    {
     "name": "stdout",
     "output_type": "stream",
     "text": [
      "10\n"
     ]
    }
   ],
   "source": [
    "def add_one(number):\n",
    "  return number + 1\n",
    "\n",
    "def times_five(number):\n",
    "  return number * 5\n",
    "\n",
    "number_plus_one = add_one(1)\n",
    "answer = times_five(number_plus_one)\n",
    "print(answer)"
   ]
  },
  {
   "cell_type": "markdown",
   "metadata": {},
   "source": [
    "Adapt your shopping list nested for-loop to be wrapped in a function you could call on any shopping list of nested dictionaries."
   ]
  },
  {
   "cell_type": "code",
   "execution_count": 41,
   "metadata": {},
   "outputs": [
    {
     "name": "stdout",
     "output_type": "stream",
     "text": [
      "Grocieries item ben & jerrys cost $5.29.        so far total cost is 5.29\n",
      "Grocieries item cheese cost $2.79.        so far total cost is 8.08\n",
      "Grocieries item ham cost $25.0.        so far total cost is 33.08\n",
      "Grocieries item kale cost $2.75.        so far total cost is 35.83\n",
      "Grocieries item kefir cost $4.5.        so far total cost is 40.33\n",
      "Grocieries item oranges cost $3.64.        so far total cost is 43.97\n",
      "Grocieries item tofu four-pack cost $12.0.        so far total cost is 55.97\n",
      "Grocieries item whole milk cost $3.42.        so far total cost is 59.39\n",
      "House supplies item toilet paper pack cost $16.5.        so far total cost is 75.89\n",
      "House supplies item clorox spray cost $6.43.        so far total cost is 82.32\n",
      "House supplies item kleenex cost $2.5.        so far total cost is 84.82\n",
      "Pet supplies item Taste of the Wild cost $65.2.        so far total cost is 150.01999999999998\n",
      "Pet supplies item squeaky toy cost $4.5.        so far total cost is 154.51999999999998\n",
      "Pet supplies item duck feet cost $8.45.        so far total cost is 162.96999999999997\n"
     ]
    },
    {
     "data": {
      "text/plain": [
       "162.96999999999997"
      ]
     },
     "execution_count": 41,
     "metadata": {},
     "output_type": "execute_result"
    }
   ],
   "source": [
    "def shop_list(shop_dict):\n",
    "    total = 0\n",
    "    for category, goods in shop_dict.items():\n",
    "        for subgoods, price in goods.items():\n",
    "            total += price\n",
    "            print(f'{category} item {subgoods} cost ${price}.\\\n",
    "        so far total cost is {total}')\n",
    "    return total\n",
    "shop_list(shopping_dict)"
   ]
  },
  {
   "cell_type": "markdown",
   "metadata": {},
   "source": [
    "### Mathematical Notation and Measures of Central Tendency \n",
    "\n",
    "median vs mode vs mean<br>\n",
    "What's the difference?\n",
    "\n",
    "\n",
    "`samp_list = [1,1,1,1,2,2,2,3,3,10,44]`\n",
    "\n",
    "How could you write a for loop to calculate the mean?"
   ]
  },
  {
   "cell_type": "code",
   "execution_count": 43,
   "metadata": {},
   "outputs": [
    {
     "data": {
      "text/plain": [
       "True"
      ]
     },
     "execution_count": 43,
     "metadata": {},
     "output_type": "execute_result"
    }
   ],
   "source": [
    "samp_list = [1,1,1,1,2,2,2,3,3,10,44]\n",
    "total = 0\n",
    "for num in samp_list:\n",
    "    total += num\n",
    "avg = total/len(samp_list)\n",
    "\n",
    "avg == sum(samp_list)/len(samp_list)"
   ]
  },
  {
   "cell_type": "markdown",
   "metadata": {},
   "source": [
    "### Integration\n",
    "\n",
    "adapt your function to do the following:\n",
    "- stop the nested loop if a grocery total goes over $30\n",
    "- print out the average cost of per item in your cart"
   ]
  },
  {
   "cell_type": "code",
   "execution_count": 48,
   "metadata": {},
   "outputs": [
    {
     "name": "stdout",
     "output_type": "stream",
     "text": [
      "Grocieries item ben & jerrys cost $5.29.        so far total cost is 5.29\n",
      "Grocieries item cheese cost $2.79.        so far total cost is 8.08\n",
      "Grocieries item kale cost $2.75.        so far total cost is 10.83\n",
      "Grocieries item kefir cost $4.5.        so far total cost is 15.33\n",
      "Grocieries item oranges cost $3.64.        so far total cost is 18.97\n",
      "Grocieries item whole milk cost $3.42.        so far total cost is 22.39\n",
      "House supplies item clorox spray cost $6.43.        so far total cost is 28.82\n"
     ]
    },
    {
     "data": {
      "text/plain": [
       "28.82"
      ]
     },
     "execution_count": 48,
     "metadata": {},
     "output_type": "execute_result"
    }
   ],
   "source": [
    "def shop_under30(shop_dict):\n",
    "    total = 0\n",
    "    for category, goods in shop_dict.items():\n",
    "        for subgoods, price in goods.items():\n",
    "            if total + price > 30:\n",
    "                continue\n",
    "            total += price\n",
    "            print(f'{category} item {subgoods} cost ${price}.\\\n",
    "        so far total cost is {total}')\n",
    "    return total\n",
    "shop_under30(shopping_dict)"
   ]
  },
  {
   "cell_type": "code",
   "execution_count": 53,
   "metadata": {},
   "outputs": [
    {
     "data": {
      "text/plain": [
       "11.64"
      ]
     },
     "execution_count": 53,
     "metadata": {},
     "output_type": "execute_result"
    }
   ],
   "source": [
    "def avg_cost(shop_cart):\n",
    "    total = 0\n",
    "    num = 0\n",
    "    for category, goods in shop_cart.items():\n",
    "        for subgoods, price in goods.items():\n",
    "            total += price\n",
    "            num += 1\n",
    "    return round(total/num,2)\n",
    "avg_cost(shopping_dict)"
   ]
  },
  {
   "cell_type": "markdown",
   "metadata": {},
   "source": [
    "## Jupyter Bonus\n",
    "\n",
    "This doesn't really fit in with the rest of Python 102, but Jupyter is incredibly flexible! Here are two examples of embedding beautiful LaTex scripting in a notebook."
   ]
  },
  {
   "cell_type": "code",
   "execution_count": 54,
   "metadata": {},
   "outputs": [
    {
     "data": {
      "text/latex": [
       "$$\\lim\\limits_{x \\to \\infty} \\exp(-x) = 0$$\n"
      ],
      "text/plain": [
       "<IPython.core.display.Latex object>"
      ]
     },
     "metadata": {},
     "output_type": "display_data"
    }
   ],
   "source": [
    "%%latex # this will make the entire cell LaTeX syntax\n",
    "$$\\lim\\limits_{x \\to \\infty} \\exp(-x) = 0$$"
   ]
  },
  {
   "cell_type": "code",
   "execution_count": 55,
   "metadata": {},
   "outputs": [
    {
     "data": {
      "text/latex": [
       "$\\displaystyle F(k) = \\int_{-\\infty}^{\\infty} f(x) e^{2\\pi i k} dx$"
      ],
      "text/plain": [
       "<IPython.core.display.Math object>"
      ]
     },
     "execution_count": 55,
     "metadata": {},
     "output_type": "execute_result"
    }
   ],
   "source": [
    "from IPython.display import Math\n",
    "# this imports a function called Math() in which you can pass in a raw string of LaTeX\n",
    "Math('F(k) = \\int_{-\\infty}^{\\infty} f(x) e^{2\\pi i k} dx')"
   ]
  }
 ],
 "metadata": {
  "kernelspec": {
   "display_name": "Python 3",
   "language": "python",
   "name": "python3"
  },
  "language_info": {
   "codemirror_mode": {
    "name": "ipython",
    "version": 3
   },
   "file_extension": ".py",
   "mimetype": "text/x-python",
   "name": "python",
   "nbconvert_exporter": "python",
   "pygments_lexer": "ipython3",
   "version": "3.7.1"
  }
 },
 "nbformat": 4,
 "nbformat_minor": 2
}
