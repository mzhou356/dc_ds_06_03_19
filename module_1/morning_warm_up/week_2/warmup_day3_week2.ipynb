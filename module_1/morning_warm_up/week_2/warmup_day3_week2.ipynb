{
 "cells": [
  {
   "cell_type": "markdown",
   "metadata": {},
   "source": [
    "## create your first simulation\n",
    "\n",
    "### 1. Open the notebook about python fundmentals \n",
    "### 2. Add records to the dictionary until you have 32 names \n"
   ]
  },
  {
   "cell_type": "code",
   "execution_count": 1,
   "metadata": {},
   "outputs": [],
   "source": [
    "names = 'Messi Ronaldo Xavi Iniesta Ibrahimovic Falcao Persie Pirlo \\\n",
    "Toure Cavani Aguero Casillas Neyma Busquets Alonso Silva Ozil Muller \\\n",
    "Schweinsteiger Buffon Suarez Ramos Kompany Pique Lahm Willian Reus \\\n",
    "Ribery Neuer Cole Rooney Mata'\n",
    "names = names.split()  # create a list of name as strings"
   ]
  },
  {
   "cell_type": "code",
   "execution_count": 2,
   "metadata": {},
   "outputs": [],
   "source": [
    "name_dict = dict.fromkeys(names,None)  # create a dict from names with None default value"
   ]
  },
  {
   "cell_type": "code",
   "execution_count": 3,
   "metadata": {},
   "outputs": [
    {
     "data": {
      "text/plain": [
       "32"
      ]
     },
     "execution_count": 3,
     "metadata": {},
     "output_type": "execute_result"
    }
   ],
   "source": [
    "len(name_dict)  # make sure there are 32 names"
   ]
  },
  {
   "cell_type": "markdown",
   "metadata": {},
   "source": [
    "### 3. loop through the dictionary in pairs (pick two records at a time)\n",
    "### 4. Use numpy random to throw a coin (virtual coin)\n",
    "### 5. if heads delete first record, else delete second record \n",
    "### 6. continue till there is one winner \n",
    "### 7. print winner's name \n"
   ]
  },
  {
   "cell_type": "code",
   "execution_count": 4,
   "metadata": {},
   "outputs": [],
   "source": [
    "import numpy as np"
   ]
  },
  {
   "cell_type": "code",
   "execution_count": 5,
   "metadata": {},
   "outputs": [],
   "source": [
    "np.random.seed(43)  # set seed for reproducibility"
   ]
  },
  {
   "cell_type": "code",
   "execution_count": 6,
   "metadata": {
    "scrolled": true
   },
   "outputs": [],
   "source": [
    "while len(name_dict) > 1:  # stop at 1 \n",
    "    # randomly pick 2 names \n",
    "    pick2 = np.random.choice(list(name_dict.keys()),2, replace = False)\n",
    "    # randomly pick head or tail, if >=0.5, head, < 0.5 tail \n",
    "    coin = np.random.random()\n",
    "    if coin >=0.5:  # head\n",
    "        del name_dict[pick2[0]]\n",
    "    else: #tail\n",
    "        del name_dict[pick2[1]]\n",
    "        \n",
    "        "
   ]
  },
  {
   "cell_type": "code",
   "execution_count": 7,
   "metadata": {},
   "outputs": [
    {
     "name": "stdout",
     "output_type": "stream",
     "text": [
      "the final winner is Aguero\n"
     ]
    }
   ],
   "source": [
    "print(f'the final winner is {list(name_dict.keys())[0]}')"
   ]
  },
  {
   "cell_type": "markdown",
   "metadata": {},
   "source": [
    "\n",
    "### 8. execute from terminal"
   ]
  }
 ],
 "metadata": {
  "kernelspec": {
   "display_name": "Python 3",
   "language": "python",
   "name": "python3"
  },
  "language_info": {
   "codemirror_mode": {
    "name": "ipython",
    "version": 3
   },
   "file_extension": ".py",
   "mimetype": "text/x-python",
   "name": "python",
   "nbconvert_exporter": "python",
   "pygments_lexer": "ipython3",
   "version": "3.7.1"
  }
 },
 "nbformat": 4,
 "nbformat_minor": 2
}
