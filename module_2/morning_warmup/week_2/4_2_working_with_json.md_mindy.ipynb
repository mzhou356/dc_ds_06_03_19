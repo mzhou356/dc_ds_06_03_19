{
 "cells": [
  {
   "cell_type": "markdown",
   "metadata": {},
   "source": [
    "### We have a json file with information about Pokemon that we want to collect into a dataframe. We will use the UniqueID as the pokemon name. Begin with the following code:\n",
    "\n",
    "`import pandas as pd`\n",
    "\n",
    "`import requests`\n",
    "\n",
    "`req = requests.get('https://pastebin.com/raw/r1HwmQt0')`\n",
    "\n",
    "`pokemon_dict = req.json()`\n",
    "\n",
    "`pokemon_dict`\n",
    "\n",
    "#### 1) Make a list containing every Pokemon name (UniqueID). Be careful of Pokemon \"MOVE\"s that are also in the top level. Your list should not include UniqueIDs that begin like this:\"V0013\\_MOVE\". Only ones that are formatted like this: \"V0013\\_POKEMON\". Your list length should be 151."
   ]
  },
  {
   "cell_type": "code",
   "execution_count": 8,
   "metadata": {},
   "outputs": [
    {
     "data": {
      "text/plain": [
       "'V0001_POKEMON_BULBASAUR'"
      ]
     },
     "execution_count": 8,
     "metadata": {},
     "output_type": "execute_result"
    }
   ],
   "source": [
    "import pandas as pd\n",
    "import requests\n",
    "req = requests.get('https://pastebin.com/raw/r1HwmQt0')\n",
    "pokemon_dict = req.json()\n",
    "pokemon_dict['Pokemon'][0]['Pokemon']['UniqueID']"
   ]
  },
  {
   "cell_type": "code",
   "execution_count": 34,
   "metadata": {},
   "outputs": [],
   "source": [
    "names = [p['TemplateId'] for p in pokemon_dict['Pokemon'] if 'POKEMON' in p['TemplateId']]"
   ]
  },
  {
   "cell_type": "code",
   "execution_count": 36,
   "metadata": {},
   "outputs": [
    {
     "data": {
      "text/plain": [
       "(151,\n",
       " ['V0001_POKEMON_BULBASAUR',\n",
       "  'V0002_POKEMON_IVYSAUR',\n",
       "  'V0003_POKEMON_VENUSAUR',\n",
       "  'V0004_POKEMON_CHARMANDER',\n",
       "  'V0005_POKEMON_CHARMELEON'])"
      ]
     },
     "execution_count": 36,
     "metadata": {},
     "output_type": "execute_result"
    }
   ],
   "source": [
    "len(names), names[:5]\n",
    "    "
   ]
  },
  {
   "cell_type": "markdown",
   "metadata": {},
   "source": [
    "#### 2) Create two new lists. One should contain only the Pokemon name itself (e.g. 'BULBASAUR') with the 'V0001\\_POKEMON\\_' portion of the string removed. The other should have the Pokemon ID (e.g. 'V0001') stored as a string. All three lists should be the same length.\n",
    "\n",
    "Note: There is one pokemon with two names separated by an underscore, don't worry about getting both parts of his name\n",
    "\n"
   ]
  },
  {
   "cell_type": "code",
   "execution_count": 39,
   "metadata": {},
   "outputs": [
    {
     "data": {
      "text/plain": [
       "['V0001', 'POKEMON', 'BULBASAUR']"
      ]
     },
     "execution_count": 39,
     "metadata": {},
     "output_type": "execute_result"
    }
   ],
   "source": [
    "'V0001_POKEMON_BULBASAUR'.split('_')"
   ]
  },
  {
   "cell_type": "code",
   "execution_count": 43,
   "metadata": {},
   "outputs": [
    {
     "data": {
      "text/plain": [
       "(151, ['BULBASAUR', 'IVYSAUR', 'VENUSAUR', 'CHARMANDER', 'CHARMELEON'])"
      ]
     },
     "execution_count": 43,
     "metadata": {},
     "output_type": "execute_result"
    }
   ],
   "source": [
    "name_actual = [s.split('_')[-1] for s in names]\n",
    "len(name_actual), name_actual[:5]"
   ]
  },
  {
   "cell_type": "code",
   "execution_count": 45,
   "metadata": {},
   "outputs": [
    {
     "data": {
      "text/plain": [
       "(151, ['V0001', 'V0002', 'V0003', 'V0004', 'V0005'])"
      ]
     },
     "execution_count": 45,
     "metadata": {},
     "output_type": "execute_result"
    }
   ],
   "source": [
    "name_symbol = [s.split('_')[0] for s in names]\n",
    "len(name_actual), name_symbol[:5]"
   ]
  },
  {
   "cell_type": "markdown",
   "metadata": {},
   "source": [
    "#### 3) Create a dataframe with the ID (e.g. 'V0001') as the index and the pokemon name (e.g. 'Bulbasaur') as the first column."
   ]
  },
  {
   "cell_type": "code",
   "execution_count": 46,
   "metadata": {},
   "outputs": [],
   "source": [
    "import pandas as pd"
   ]
  },
  {
   "cell_type": "code",
   "execution_count": 54,
   "metadata": {},
   "outputs": [],
   "source": [
    "df = pd.DataFrame([name_symbol, name_actual], ).T\n",
    "df."
   ]
  },
  {
   "cell_type": "code",
   "execution_count": 55,
   "metadata": {},
   "outputs": [
    {
     "data": {
      "text/html": [
       "<div>\n",
       "<style scoped>\n",
       "    .dataframe tbody tr th:only-of-type {\n",
       "        vertical-align: middle;\n",
       "    }\n",
       "\n",
       "    .dataframe tbody tr th {\n",
       "        vertical-align: top;\n",
       "    }\n",
       "\n",
       "    .dataframe thead th {\n",
       "        text-align: right;\n",
       "    }\n",
       "</style>\n",
       "<table border=\"1\" class=\"dataframe\">\n",
       "  <thead>\n",
       "    <tr style=\"text-align: right;\">\n",
       "      <th></th>\n",
       "      <th>1</th>\n",
       "    </tr>\n",
       "    <tr>\n",
       "      <th>0</th>\n",
       "      <th></th>\n",
       "    </tr>\n",
       "  </thead>\n",
       "  <tbody>\n",
       "    <tr>\n",
       "      <th>V0001</th>\n",
       "      <td>BULBASAUR</td>\n",
       "    </tr>\n",
       "    <tr>\n",
       "      <th>V0002</th>\n",
       "      <td>IVYSAUR</td>\n",
       "    </tr>\n",
       "    <tr>\n",
       "      <th>V0003</th>\n",
       "      <td>VENUSAUR</td>\n",
       "    </tr>\n",
       "    <tr>\n",
       "      <th>V0004</th>\n",
       "      <td>CHARMANDER</td>\n",
       "    </tr>\n",
       "    <tr>\n",
       "      <th>V0005</th>\n",
       "      <td>CHARMELEON</td>\n",
       "    </tr>\n",
       "  </tbody>\n",
       "</table>\n",
       "</div>"
      ],
      "text/plain": [
       "                1\n",
       "0                \n",
       "V0001   BULBASAUR\n",
       "V0002     IVYSAUR\n",
       "V0003    VENUSAUR\n",
       "V0004  CHARMANDER\n",
       "V0005  CHARMELEON"
      ]
     },
     "execution_count": 55,
     "metadata": {},
     "output_type": "execute_result"
    }
   ],
   "source": [
    "df.head()"
   ]
  },
  {
   "cell_type": "code",
   "execution_count": null,
   "metadata": {},
   "outputs": [],
   "source": []
  }
 ],
 "metadata": {
  "kernelspec": {
   "display_name": "Python 3",
   "language": "python",
   "name": "python3"
  },
  "language_info": {
   "codemirror_mode": {
    "name": "ipython",
    "version": 3
   },
   "file_extension": ".py",
   "mimetype": "text/x-python",
   "name": "python",
   "nbconvert_exporter": "python",
   "pygments_lexer": "ipython3",
   "version": "3.7.1"
  }
 },
 "nbformat": 4,
 "nbformat_minor": 2
}
