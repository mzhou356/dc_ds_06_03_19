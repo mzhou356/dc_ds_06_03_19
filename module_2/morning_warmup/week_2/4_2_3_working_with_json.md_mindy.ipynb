{
 "cells": [
  {
   "cell_type": "markdown",
   "metadata": {},
   "source": [
    "### We have a json file with information about Pokemon that we want to collect into a dataframe. We will use the UniqueID as the pokemon name. Begin with the following code:\n",
    "\n",
    "`import pandas as pd`\n",
    "\n",
    "`import requests`\n",
    "\n",
    "`req = requests.get('https://pastebin.com/raw/r1HwmQt0')`\n",
    "\n",
    "`pokemon_dict = req.json()`\n",
    "\n",
    "`pokemon_dict`\n",
    "\n",
    "#### 1) Make a list containing every Pokemon name (UniqueID). Be careful of Pokemon \"MOVE\"s that are also in the top level. Your list should not include UniqueIDs that begin like this:\"V0013\\_MOVE\". Only ones that are formatted like this: \"V0013\\_POKEMON\". Your list length should be 151."
   ]
  },
  {
   "cell_type": "code",
   "execution_count": 86,
   "metadata": {},
   "outputs": [],
   "source": [
    "import pandas as pd\n",
    "import requests\n",
    "import matplotlib.pyplot as plt\n",
    "%matplotlib inline\n",
    "req = requests.get('https://pastebin.com/raw/r1HwmQt0')\n",
    "pokemon_dict = req.json()"
   ]
  },
  {
   "cell_type": "code",
   "execution_count": 38,
   "metadata": {},
   "outputs": [],
   "source": [
    "names = [p['TemplateId'] for p in pokemon_dict['Pokemon'] if 'POKEMON' in p['TemplateId']]"
   ]
  },
  {
   "cell_type": "code",
   "execution_count": 39,
   "metadata": {},
   "outputs": [
    {
     "data": {
      "text/plain": [
       "(151,\n",
       " ['V0001_POKEMON_BULBASAUR',\n",
       "  'V0002_POKEMON_IVYSAUR',\n",
       "  'V0003_POKEMON_VENUSAUR',\n",
       "  'V0004_POKEMON_CHARMANDER',\n",
       "  'V0005_POKEMON_CHARMELEON'])"
      ]
     },
     "execution_count": 39,
     "metadata": {},
     "output_type": "execute_result"
    }
   ],
   "source": [
    "len(names), names[:5]\n",
    "    "
   ]
  },
  {
   "cell_type": "markdown",
   "metadata": {},
   "source": [
    "#### 2) Create two new lists. One should contain only the Pokemon name itself (e.g. 'BULBASAUR') with the 'V0001\\_POKEMON\\_' portion of the string removed. The other should have the Pokemon ID (e.g. 'V0001') stored as a string. All three lists should be the same length.\n",
    "\n",
    "Note: There is one pokemon with two names separated by an underscore, don't worry about getting both parts of his name\n",
    "\n"
   ]
  },
  {
   "cell_type": "code",
   "execution_count": 40,
   "metadata": {},
   "outputs": [
    {
     "data": {
      "text/plain": [
       "['V0001', 'POKEMON', 'BULBASAUR']"
      ]
     },
     "execution_count": 40,
     "metadata": {},
     "output_type": "execute_result"
    }
   ],
   "source": [
    "'V0001_POKEMON_BULBASAUR'.split('_')"
   ]
  },
  {
   "cell_type": "code",
   "execution_count": 41,
   "metadata": {},
   "outputs": [
    {
     "data": {
      "text/plain": [
       "(151, ['BULBASAUR', 'IVYSAUR', 'VENUSAUR', 'CHARMANDER', 'CHARMELEON'])"
      ]
     },
     "execution_count": 41,
     "metadata": {},
     "output_type": "execute_result"
    }
   ],
   "source": [
    "name_actual = [s.split('_')[-1] for s in names]\n",
    "len(name_actual), name_actual[:5]"
   ]
  },
  {
   "cell_type": "code",
   "execution_count": 42,
   "metadata": {},
   "outputs": [
    {
     "data": {
      "text/plain": [
       "(151, ['V0001', 'V0002', 'V0003', 'V0004', 'V0005'])"
      ]
     },
     "execution_count": 42,
     "metadata": {},
     "output_type": "execute_result"
    }
   ],
   "source": [
    "name_symbol = [s.split('_')[0] for s in names]\n",
    "len(name_actual), name_symbol[:5]"
   ]
  },
  {
   "cell_type": "markdown",
   "metadata": {},
   "source": [
    "#### 3) Create a dataframe with the ID (e.g. 'V0001') as the index and the pokemon name (e.g. 'Bulbasaur') as the first column."
   ]
  },
  {
   "cell_type": "code",
   "execution_count": 43,
   "metadata": {},
   "outputs": [],
   "source": [
    "import pandas as pd"
   ]
  },
  {
   "cell_type": "code",
   "execution_count": 67,
   "metadata": {},
   "outputs": [],
   "source": [
    "df = pd.DataFrame({'symbol':name_symbol, 'actualname': name_actual})"
   ]
  },
  {
   "cell_type": "code",
   "execution_count": 47,
   "metadata": {},
   "outputs": [
    {
     "data": {
      "text/html": [
       "<div>\n",
       "<style scoped>\n",
       "    .dataframe tbody tr th:only-of-type {\n",
       "        vertical-align: middle;\n",
       "    }\n",
       "\n",
       "    .dataframe tbody tr th {\n",
       "        vertical-align: top;\n",
       "    }\n",
       "\n",
       "    .dataframe thead th {\n",
       "        text-align: right;\n",
       "    }\n",
       "</style>\n",
       "<table border=\"1\" class=\"dataframe\">\n",
       "  <thead>\n",
       "    <tr style=\"text-align: right;\">\n",
       "      <th></th>\n",
       "      <th>actualname</th>\n",
       "    </tr>\n",
       "    <tr>\n",
       "      <th>symbol</th>\n",
       "      <th></th>\n",
       "    </tr>\n",
       "  </thead>\n",
       "  <tbody>\n",
       "    <tr>\n",
       "      <th>V0001</th>\n",
       "      <td>BULBASAUR</td>\n",
       "    </tr>\n",
       "    <tr>\n",
       "      <th>V0002</th>\n",
       "      <td>IVYSAUR</td>\n",
       "    </tr>\n",
       "    <tr>\n",
       "      <th>V0003</th>\n",
       "      <td>VENUSAUR</td>\n",
       "    </tr>\n",
       "    <tr>\n",
       "      <th>V0004</th>\n",
       "      <td>CHARMANDER</td>\n",
       "    </tr>\n",
       "    <tr>\n",
       "      <th>V0005</th>\n",
       "      <td>CHARMELEON</td>\n",
       "    </tr>\n",
       "  </tbody>\n",
       "</table>\n",
       "</div>"
      ],
      "text/plain": [
       "        actualname\n",
       "symbol            \n",
       "V0001    BULBASAUR\n",
       "V0002      IVYSAUR\n",
       "V0003     VENUSAUR\n",
       "V0004   CHARMANDER\n",
       "V0005   CHARMELEON"
      ]
     },
     "execution_count": 47,
     "metadata": {},
     "output_type": "execute_result"
    }
   ],
   "source": []
  },
  {
   "cell_type": "markdown",
   "metadata": {},
   "source": [
    "### We are going to continue working with the same Pokemon json file and extend our dataframe from yesterday. Use the same notebook that you completed that warmup in.\n",
    "\n",
    "#### 4) Let's add the following information to the dataframe as separate columns: 'Type1', 'BaseStamina', 'BaseAttack', 'BaseDefense', 'PokedexHeightM'. Your final dataframe should have the Pokemon ID as the index and 6 columns of information, the pokemon name, along with the 5 previously listed columns. \n",
    "\n",
    "Note: If it is easier, you can create an entirely new dataframe instead of building on from step 3\n",
    "\n"
   ]
  },
  {
   "cell_type": "code",
   "execution_count": 62,
   "metadata": {},
   "outputs": [],
   "source": [
    "Type_1 = []\n",
    "BaseStamina = []\n",
    "BaseAttack =[]\n",
    "BaseDefense=[]\n",
    "PokeHeight =[]\n",
    "for p in pokemon_dict['Pokemon']:\n",
    "    if 'Pokemon' in p.keys():\n",
    "        Type_1.append(p['Pokemon']['Type1'])\n",
    "        BaseStamina.append(p['Pokemon']['Stats']['BaseStamina'])\n",
    "        BaseAttack.append(p['Pokemon']['Stats']['BaseAttack'])\n",
    "        BaseDefense.append(p['Pokemon']['Stats']['BaseDefense'])\n",
    "        PokeHeight.append(p['Pokemon']['PokedexHeightM'])        "
   ]
  },
  {
   "cell_type": "code",
   "execution_count": 64,
   "metadata": {},
   "outputs": [],
   "source": [
    "df2 = pd.DataFrame({'Type_1': Type_1, 'BaseStamina':BaseStamina, \n",
    "                   'BaseAttack': BaseAttack, 'BaseDefense':BaseDefense,\n",
    "                   'PokeHeight': PokeHeight})"
   ]
  },
  {
   "cell_type": "code",
   "execution_count": 75,
   "metadata": {},
   "outputs": [],
   "source": [
    "df3 = pd.concat([df, df2], axis = 1, join_axes=[df.index])\n",
    "df3.set_index('symbol', inplace = True)"
   ]
  },
  {
   "cell_type": "code",
   "execution_count": 77,
   "metadata": {},
   "outputs": [
    {
     "data": {
      "text/html": [
       "<div>\n",
       "<style scoped>\n",
       "    .dataframe tbody tr th:only-of-type {\n",
       "        vertical-align: middle;\n",
       "    }\n",
       "\n",
       "    .dataframe tbody tr th {\n",
       "        vertical-align: top;\n",
       "    }\n",
       "\n",
       "    .dataframe thead th {\n",
       "        text-align: right;\n",
       "    }\n",
       "</style>\n",
       "<table border=\"1\" class=\"dataframe\">\n",
       "  <thead>\n",
       "    <tr style=\"text-align: right;\">\n",
       "      <th></th>\n",
       "      <th>actualname</th>\n",
       "      <th>Type_1</th>\n",
       "      <th>BaseStamina</th>\n",
       "      <th>BaseAttack</th>\n",
       "      <th>BaseDefense</th>\n",
       "      <th>PokeHeight</th>\n",
       "    </tr>\n",
       "    <tr>\n",
       "      <th>symbol</th>\n",
       "      <th></th>\n",
       "      <th></th>\n",
       "      <th></th>\n",
       "      <th></th>\n",
       "      <th></th>\n",
       "      <th></th>\n",
       "    </tr>\n",
       "  </thead>\n",
       "  <tbody>\n",
       "    <tr>\n",
       "      <th>V0001</th>\n",
       "      <td>BULBASAUR</td>\n",
       "      <td>POKEMON_TYPE_GRASS</td>\n",
       "      <td>90</td>\n",
       "      <td>126</td>\n",
       "      <td>126</td>\n",
       "      <td>0.7</td>\n",
       "    </tr>\n",
       "    <tr>\n",
       "      <th>V0002</th>\n",
       "      <td>IVYSAUR</td>\n",
       "      <td>POKEMON_TYPE_GRASS</td>\n",
       "      <td>120</td>\n",
       "      <td>156</td>\n",
       "      <td>158</td>\n",
       "      <td>1.0</td>\n",
       "    </tr>\n",
       "    <tr>\n",
       "      <th>V0003</th>\n",
       "      <td>VENUSAUR</td>\n",
       "      <td>POKEMON_TYPE_GRASS</td>\n",
       "      <td>160</td>\n",
       "      <td>198</td>\n",
       "      <td>200</td>\n",
       "      <td>2.0</td>\n",
       "    </tr>\n",
       "    <tr>\n",
       "      <th>V0004</th>\n",
       "      <td>CHARMANDER</td>\n",
       "      <td>POKEMON_TYPE_FIRE</td>\n",
       "      <td>78</td>\n",
       "      <td>128</td>\n",
       "      <td>108</td>\n",
       "      <td>0.6</td>\n",
       "    </tr>\n",
       "    <tr>\n",
       "      <th>V0005</th>\n",
       "      <td>CHARMELEON</td>\n",
       "      <td>POKEMON_TYPE_FIRE</td>\n",
       "      <td>116</td>\n",
       "      <td>160</td>\n",
       "      <td>140</td>\n",
       "      <td>1.1</td>\n",
       "    </tr>\n",
       "  </tbody>\n",
       "</table>\n",
       "</div>"
      ],
      "text/plain": [
       "        actualname              Type_1  BaseStamina  BaseAttack  BaseDefense  \\\n",
       "symbol                                                                         \n",
       "V0001    BULBASAUR  POKEMON_TYPE_GRASS           90         126          126   \n",
       "V0002      IVYSAUR  POKEMON_TYPE_GRASS          120         156          158   \n",
       "V0003     VENUSAUR  POKEMON_TYPE_GRASS          160         198          200   \n",
       "V0004   CHARMANDER   POKEMON_TYPE_FIRE           78         128          108   \n",
       "V0005   CHARMELEON   POKEMON_TYPE_FIRE          116         160          140   \n",
       "\n",
       "        PokeHeight  \n",
       "symbol              \n",
       "V0001          0.7  \n",
       "V0002          1.0  \n",
       "V0003          2.0  \n",
       "V0004          0.6  \n",
       "V0005          1.1  "
      ]
     },
     "execution_count": 77,
     "metadata": {},
     "output_type": "execute_result"
    }
   ],
   "source": [
    "df3.head()"
   ]
  },
  {
   "cell_type": "markdown",
   "metadata": {},
   "source": [
    "#### 5) Find which Pokemon Type has the highest average BaseAttack\n",
    "\n"
   ]
  },
  {
   "cell_type": "code",
   "execution_count": 89,
   "metadata": {},
   "outputs": [
    {
     "data": {
      "text/plain": [
       "Type_1\n",
       "POKEMON_TYPE_FIRE    185.833333\n",
       "Name: BaseAttack, dtype: float64"
      ]
     },
     "execution_count": 89,
     "metadata": {},
     "output_type": "execute_result"
    }
   ],
   "source": [
    "df3.groupby('Type_1')['BaseAttack'].mean().sort_values(ascending = False)[:1]\n",
    "# Pokemon_Type_fire"
   ]
  },
  {
   "cell_type": "markdown",
   "metadata": {},
   "source": [
    "\n",
    "#### 6) Plot the top 10 Pokemon Types by highest average BaseAttack"
   ]
  },
  {
   "cell_type": "code",
   "execution_count": 88,
   "metadata": {},
   "outputs": [
    {
     "data": {
      "text/plain": [
       "<matplotlib.axes._subplots.AxesSubplot at 0x122e35be0>"
      ]
     },
     "execution_count": 88,
     "metadata": {},
     "output_type": "execute_result"
    },
    {
     "data": {
      "image/png": "[encoded data removed]",
      "text/plain": [
       "<Figure size 432x288 with 1 Axes>"
      ]
     },
     "metadata": {
      "needs_background": "light"
     },
     "output_type": "display_data"
    }
   ],
   "source": [
    "df3.groupby('Type_1')['BaseAttack'].mean().sort_values(ascending = False)[:10].plot.bar()"
   ]
  }
 ],
 "metadata": {
  "kernelspec": {
   "display_name": "Python 3",
   "language": "python",
   "name": "python3"
  },
  "language_info": {
   "codemirror_mode": {
    "name": "ipython",
    "version": 3
   },
   "file_extension": ".py",
   "mimetype": "text/x-python",
   "name": "python",
   "nbconvert_exporter": "python",
   "pygments_lexer": "ipython3",
   "version": "3.7.1"
  }
 },
 "nbformat": 4,
 "nbformat_minor": 2
}
