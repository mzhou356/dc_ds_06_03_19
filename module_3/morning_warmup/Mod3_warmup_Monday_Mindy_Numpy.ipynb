{
 "cells": [
  {
   "cell_type": "markdown",
   "metadata": {},
   "source": [
    "### Let's use numpy to answer a probability question by creating a simulation!\n",
    "\n",
    "1. We have a box that contains 40 red balls and 60 white balls. What is the probability to pick a red ball 3 times in a row with replacement (calculated theoretically)?\n",
    "\n",
    "2. Now let's answer the same question using a simulation that runs 1\\_000, 10\\_000, and 100\\_000 times and counts how many of those times we draw 3 red balls in a row. Hint: use np.random.rand()\n",
    "\n",
    "3. [Optional] Create a similar simulation that runs without replacement.\n",
    "\n",
    "### np.random.rand() if < prob, then red "
   ]
  },
  {
   "cell_type": "code",
   "execution_count": 1,
   "metadata": {},
   "outputs": [],
   "source": [
    "import numpy as np\n",
    "import matplotlib.pyplot as plt\n",
    "%matplotlib inline"
   ]
  },
  {
   "cell_type": "code",
   "execution_count": 2,
   "metadata": {},
   "outputs": [
    {
     "name": "stdout",
     "output_type": "stream",
     "text": [
      "theoretical probability draw 3 balls without replacement: \n",
      "    0.06110080395794682\n",
      "theoretical probability draw 3 balls with replacement: \n",
      "    0.06400000000000002\n"
     ]
    }
   ],
   "source": [
    "# theoretical calculation without replacement\n",
    "print(\n",
    "    f'theoretical probability draw 3 balls without replacement: \\n\\\n",
    "    {(40/(40+60))*(39/(39+60))*(38/(38+60))}')\n",
    "# theoretical calculation with replacement\n",
    "print(\n",
    "    f'theoretical probability draw 3 balls with replacement: \\n\\\n",
    "    {(40/(40+60))**3}')\n"
   ]
  },
  {
   "cell_type": "code",
   "execution_count": 3,
   "metadata": {},
   "outputs": [],
   "source": [
    "# set seed for reproduciblity\n",
    "np.random.seed(0)"
   ]
  },
  {
   "cell_type": "code",
   "execution_count": 4,
   "metadata": {},
   "outputs": [
    {
     "name": "stdout",
     "output_type": "stream",
     "text": [
      "['red', 'white', 'red', 'white', 'white', 'white', 'red', 'white', 'white', 'white', 'white', 'white', 'white', 'red', 'red', 'red', 'red', 'red', 'red', 'red', 'white', 'white', 'red', 'white', 'white', 'white', 'red', 'white', 'white', 'white', 'white', 'white', 'white', 'white', 'white', 'red', 'red', 'white', 'white', 'white', 'red', 'white', 'white', 'white', 'red', 'red', 'red', 'white', 'red', 'red', 'white', 'white', 'red', 'red', 'red', 'white', 'red', 'red', 'red', 'white', 'red', 'red', 'white', 'white', 'white', 'white', 'red', 'white', 'red', 'white', 'red', 'red', 'white', 'white', 'white', 'white', 'red', 'white', 'white', 'white', 'red', 'red', 'white', 'white', 'red', 'white', 'white', 'red', 'white', 'white', 'white', 'red', 'red', 'white', 'red', 'white', 'white', 'white', 'white', 'white']\n"
     ]
    }
   ],
   "source": [
    "# generate a box \n",
    "box = ['red']*40 +['white']*60 \n",
    "# shuffle so not all in order \n",
    "np.random.shuffle(box)\n",
    "print(box)"
   ]
  },
  {
   "cell_type": "markdown",
   "metadata": {},
   "source": [
    "## Simulation with replacement "
   ]
  },
  {
   "cell_type": "code",
   "execution_count": 5,
   "metadata": {},
   "outputs": [],
   "source": [
    "repeats = [1000,10000,100000]\n",
    "probabilities_r = []\n",
    "for repeat in repeats:\n",
    "    num_3 = 0\n",
    "    for i in range(repeat):\n",
    "        balls = np.random.choice(box, 3, replace = True).tolist()\n",
    "        if sum([1 for ball in balls if ball =='red' ]) == 3:\n",
    "            num_3 += 1\n",
    "    probabilities_r.append(num_3/repeat)    "
   ]
  },
  {
   "cell_type": "code",
   "execution_count": 6,
   "metadata": {},
   "outputs": [
    {
     "data": {
      "text/plain": [
       "[0.068, 0.0656, 0.06329]"
      ]
     },
     "execution_count": 6,
     "metadata": {},
     "output_type": "execute_result"
    }
   ],
   "source": [
    "probabilities_r"
   ]
  },
  {
   "cell_type": "code",
   "execution_count": 7,
   "metadata": {},
   "outputs": [
    {
     "data": {
      "image/png": "[encoded data removed]",
      "text/plain": [
       "<Figure size 432x288 with 1 Axes>"
      ]
     },
     "metadata": {
      "needs_background": "light"
     },
     "output_type": "display_data"
    }
   ],
   "source": [
    "plt.scatter(x = repeats, y = probabilities_r, color = 'red')\n",
    "plt.xlabel('num of simulation')\n",
    "plt.ylabel('probabilties')\n",
    "plt.title('probabilites of drawing 3 balls in a row with replacement')\n",
    "plt.show()"
   ]
  },
  {
   "cell_type": "code",
   "execution_count": 8,
   "metadata": {},
   "outputs": [],
   "source": [
    "# simulation without replacement \n",
    "repeats = [1000,10000,100000]\n",
    "probabilities_nr = []\n",
    "for repeat in repeats:\n",
    "    num_3 = 0\n",
    "    for i in range(repeat):\n",
    "        balls = np.random.choice(box, 3, replace = False).tolist()\n",
    "        if sum([1 for ball in balls if ball =='red' ]) == 3:\n",
    "            num_3 += 1\n",
    "    probabilities_nr.append(num_3/repeat)    "
   ]
  },
  {
   "cell_type": "code",
   "execution_count": 9,
   "metadata": {},
   "outputs": [
    {
     "data": {
      "image/png": "[encoded data removed]",
      "text/plain": [
       "<Figure size 432x288 with 1 Axes>"
      ]
     },
     "metadata": {
      "needs_background": "light"
     },
     "output_type": "display_data"
    }
   ],
   "source": [
    "plt.scatter(x = repeats, y = probabilities_nr, color = 'blue')\n",
    "plt.xlabel('num of simulation')\n",
    "plt.ylabel('probabilties')\n",
    "plt.ylim([0.055,0.065])\n",
    "plt.title('probabilites of drawing 3 balls in a row without replacement')\n",
    "plt.show()"
   ]
  }
 ],
 "metadata": {
  "kernelspec": {
   "display_name": "Python 3",
   "language": "python",
   "name": "python3"
  },
  "language_info": {
   "codemirror_mode": {
    "name": "ipython",
    "version": 3
   },
   "file_extension": ".py",
   "mimetype": "text/x-python",
   "name": "python",
   "nbconvert_exporter": "python",
   "pygments_lexer": "ipython3",
   "version": "3.7.1"
  }
 },
 "nbformat": 4,
 "nbformat_minor": 2
}
