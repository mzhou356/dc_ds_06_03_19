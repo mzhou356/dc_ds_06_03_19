{
 "cells": [
  {
   "cell_type": "markdown",
   "metadata": {},
   "source": [
    "### Let's practice some probability!\n"
   ]
  },
  {
   "cell_type": "code",
   "execution_count": 25,
   "metadata": {},
   "outputs": [],
   "source": [
    "# import libraries \n",
    "from itertools import combinations, permutations\n",
    "import numpy as np\n",
    "from math import factorial "
   ]
  },
  {
   "cell_type": "markdown",
   "metadata": {},
   "source": [
    "1. Calculate the number of possible 5 card hands in a 52-card deck (combinations)."
   ]
  },
  {
   "cell_type": "code",
   "execution_count": 9,
   "metadata": {},
   "outputs": [
    {
     "data": {
      "text/plain": [
       "2598960"
      ]
     },
     "metadata": {},
     "output_type": "display_data"
    },
    {
     "data": {
      "text/plain": [
       "2598960.0"
      ]
     },
     "execution_count": 9,
     "metadata": {},
     "output_type": "execute_result"
    }
   ],
   "source": [
    "# 52 choose 5 cards without replacement \n",
    "display(len(list(combinations(np.arange(52), 5))))\n",
    "# calculate using formula\n",
    "factorial(52)/(factorial(52-5)*factorial(5))"
   ]
  },
  {
   "cell_type": "markdown",
   "metadata": {},
   "source": [
    "\n",
    "2. What is the probability of rolling a sum of 9 with 2 dice?"
   ]
  },
  {
   "cell_type": "code",
   "execution_count": 63,
   "metadata": {},
   "outputs": [],
   "source": [
    "dices = list(np.arange(1,7))\n",
    "sample_space = []\n",
    "for dice1 in dices:\n",
    "    for dice2 in dices:\n",
    "        total = dice1+dice2\n",
    "        sample_space.append(total)"
   ]
  },
  {
   "cell_type": "code",
   "execution_count": 70,
   "metadata": {
    "scrolled": true
   },
   "outputs": [
    {
     "data": {
      "text/plain": [
       "0.1111111111111111"
      ]
     },
     "execution_count": 70,
     "metadata": {},
     "output_type": "execute_result"
    }
   ],
   "source": [
    "# probability of sum of 9 with 2 dices \n",
    "np.mean(np.array(sample_space) == 9)"
   ]
  },
  {
   "cell_type": "markdown",
   "metadata": {},
   "source": [
    "\n",
    "3. What is the probability of getting at least 1 tail if you flip 3 coins in a row?"
   ]
  },
  {
   "cell_type": "code",
   "execution_count": 71,
   "metadata": {},
   "outputs": [],
   "source": [
    "coins = ['head','tail']\n",
    "sample_coin = []\n",
    "for coin1 in coins:\n",
    "    for coin2 in coins:\n",
    "        for coin3 in coins:\n",
    "            sample_coin.append((coin1,coin2,coin3))\n",
    "          "
   ]
  },
  {
   "cell_type": "code",
   "execution_count": 75,
   "metadata": {},
   "outputs": [
    {
     "data": {
      "text/plain": [
       "0.875"
      ]
     },
     "execution_count": 75,
     "metadata": {},
     "output_type": "execute_result"
    }
   ],
   "source": [
    "np.mean(np.any(np.isin(np.array(sample_coin), 'tail'), axis = 1))"
   ]
  },
  {
   "cell_type": "markdown",
   "metadata": {},
   "source": [
    "4. We have two identical boxes. The first has 8 black balls and 4 white balls. The second has 2 black balls and 2 white balls. A) If a box is chosen at random, then the ball is chosen randomly, what is the chance that we draw a black ball? B) If we draw a black ball, what is the probability it is from the first box?"
   ]
  },
  {
   "cell_type": "code",
   "execution_count": 77,
   "metadata": {},
   "outputs": [
    {
     "name": "stdout",
     "output_type": "stream",
     "text": [
      "0.5833333333333333\n"
     ]
    }
   ],
   "source": [
    "box_prob = 0.5\n",
    "box_1_b = 2/3\n",
    "box_2_b = 2/4\n",
    "\n",
    "# chosen black ball depends on the box u choose \n",
    "\n",
    "prob_b = box_prob*box_1_b + box_prob*box_2_b \n",
    "print (prob_b)"
   ]
  },
  {
   "cell_type": "code",
   "execution_count": 83,
   "metadata": {},
   "outputs": [
    {
     "name": "stdout",
     "output_type": "stream",
     "text": [
      "0.5714285714285715\n"
     ]
    }
   ],
   "source": [
    "# P(box_1|black_ball) = P(black_ball|box_1)*Prob(box_1)/prob(black_ball)\n",
    "\n",
    "prob_box_1_black_ball = box_1_b*box_prob/prob_b\n",
    "print(prob_box_1_black_ball)"
   ]
  }
 ],
 "metadata": {
  "kernelspec": {
   "display_name": "Python 3",
   "language": "python",
   "name": "python3"
  },
  "language_info": {
   "codemirror_mode": {
    "name": "ipython",
    "version": 3
   },
   "file_extension": ".py",
   "mimetype": "text/x-python",
   "name": "python",
   "nbconvert_exporter": "python",
   "pygments_lexer": "ipython3",
   "version": "3.7.1"
  }
 },
 "nbformat": 4,
 "nbformat_minor": 2
}
